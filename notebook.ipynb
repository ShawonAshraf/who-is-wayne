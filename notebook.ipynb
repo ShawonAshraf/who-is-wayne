{
 "nbformat": 4,
 "nbformat_minor": 2,
 "metadata": {
  "language_info": {
   "name": "python",
   "codemirror_mode": {
    "name": "ipython",
    "version": 3
   },
   "version": "3.6.2"
  },
  "orig_nbformat": 2,
  "file_extension": ".py",
  "mimetype": "text/x-python",
  "name": "python",
  "npconvert_exporter": "python",
  "pygments_lexer": "ipython3",
  "version": 3
 },
 "cells": [
  {
   "cell_type": "markdown",
   "metadata": {},
   "outputs": [],
   "source": [
    "# Who is Wayne? Joker or Batman?"
   ]
  },
  {
   "cell_type": "markdown",
   "metadata": {},
   "outputs": [],
   "source": [
    "## Corpus"
   ]
  },
  {
   "cell_type": "code",
   "execution_count": 1,
   "metadata": {},
   "outputs": [],
   "source": [
    "text = 'Batman is an American superhero.  The Joker is a supervillain that embodies the ideas of anarchy and chaos. The Joker and Batman fight the battle for Gotham’s soul. Like them, Bruce Wayne, an American billionaire is also from Gotham City. Is he hiding behind the face of these two?'\n",
    "\n",
    "targets = ['batman', 'wayne', 'joker']\n",
    "\n",
    "corpus = text.lower()"
   ]
  },
  {
   "cell_type": "markdown",
   "metadata": {},
   "outputs": [],
   "source": [
    "## Lemmatization"
   ]
  },
  {
   "cell_type": "markdown",
   "metadata": {},
   "outputs": [],
   "source": [
    "### Init NLTK"
   ]
  },
  {
   "cell_type": "code",
   "execution_count": 2,
   "metadata": {},
   "outputs": [
    {
     "name": "stderr",
     "output_type": "stream",
     "text": "[nltk_data] Downloading package wordnet to /Users/shawon/nltk_data...\n[nltk_data]   Package wordnet is already up-to-date!\n[nltk_data] Downloading package punkt to /Users/shawon/nltk_data...\n[nltk_data]   Package punkt is already up-to-date!\n[nltk_data] Downloading package averaged_perceptron_tagger to\n[nltk_data]     /Users/shawon/nltk_data...\n[nltk_data]   Package averaged_perceptron_tagger is already up-to-\n[nltk_data]       date!\n"
    }
   ],
   "source": [
    "import nltk\n",
    "\n",
    "try:\n",
    "    nltk.download('wordnet')\n",
    "    nltk.download('punkt')\n",
    "    nltk.download('averaged_perceptron_tagger')\n",
    "except:\n",
    "    pass"
   ]
  },
  {
   "cell_type": "code",
   "execution_count": 3,
   "metadata": {},
   "outputs": [],
   "source": [
    "from nltk.stem import WordNetLemmatizer\n",
    "from nltk import word_tokenize, pos_tag"
   ]
  },
  {
   "cell_type": "markdown",
   "metadata": {},
   "outputs": [],
   "source": [
    "### Lemmatize"
   ]
  },
  {
   "cell_type": "code",
   "execution_count": 4,
   "metadata": {},
   "outputs": [],
   "source": [
    "lemmatizer = WordNetLemmatizer()"
   ]
  },
  {
   "cell_type": "code",
   "execution_count": 5,
   "metadata": {},
   "outputs": [],
   "source": [
    "def lemmatize_sentence(sentence):\n",
    "    tagged = pos_tag(word_tokenize(sentence))\n",
    "    lemmas = []\n",
    "\n",
    "    for word, tag in tagged:\n",
    "        wntag = tag[0].lower()\n",
    "        wntag = wntag if wntag in ['a', 'n', 'v', 'r'] else None\n",
    "        if not wntag:\n",
    "            lemmas.append(word)\n",
    "        else:\n",
    "            lemmas.append(lemmatizer.lemmatize(word, wntag))\n",
    "\n",
    "    return ' '.join(lemmas)"
   ]
  },
  {
   "cell_type": "code",
   "execution_count": 6,
   "metadata": {},
   "outputs": [],
   "source": [
    "sentences = corpus.split('.')\n",
    "lemmatized_sentences = []"
   ]
  },
  {
   "cell_type": "code",
   "execution_count": 7,
   "metadata": {},
   "outputs": [],
   "source": [
    "for sentence in sentences:\n",
    "    lemmatized_sentences.append(lemmatize_sentence(sentence))"
   ]
  },
  {
   "cell_type": "code",
   "execution_count": 8,
   "metadata": {},
   "outputs": [
    {
     "data": {
      "text/plain": "['batman be an american superhero',\n 'the joker be a supervillain that embody the idea of anarchy and chaos',\n 'the joker and batman fight the battle for gotham ’ s soul',\n 'like them , bruce wayne , an american billionaire be also from gotham city',\n 'be he hide behind the face of these two ?']"
     },
     "execution_count": 8,
     "metadata": {},
     "output_type": "execute_result"
    }
   ],
   "source": [
    "lemmatized_sentences"
   ]
  },
  {
   "cell_type": "code",
   "execution_count": 9,
   "metadata": {},
   "outputs": [
    {
     "data": {
      "text/plain": "'batman be an american superhero.the joker be a supervillain that embody the idea of anarchy and chaos.the joker and batman fight the battle for gotham ’ s soul.like them , bruce wayne , an american billionaire be also from gotham city.be he hide behind the face of these two ?'"
     },
     "execution_count": 9,
     "metadata": {},
     "output_type": "execute_result"
    }
   ],
   "source": [
    "'.'.join(lemmatized_sentences)"
   ]
  },
  {
   "cell_type": "markdown",
   "metadata": {},
   "outputs": [],
   "source": [
    "### Target by Context matrix"
   ]
  },
  {
   "cell_type": "code",
   "execution_count": 10,
   "metadata": {},
   "outputs": [
    {
     "data": {
      "text/plain": "{'batman': [], 'wayne': [], 'joker': []}"
     },
     "execution_count": 10,
     "metadata": {},
     "output_type": "execute_result"
    }
   ],
   "source": [
    "target_v_context = {}\n",
    "for target in targets:\n",
    "    target_v_context[target] = []\n",
    "\n",
    "target_v_context"
   ]
  },
  {
   "cell_type": "code",
   "execution_count": 11,
   "metadata": {},
   "outputs": [],
   "source": [
    "# build pos tag dictionary\n",
    "tag_dict = {}\n",
    "for sentence in lemmatized_sentences:\n",
    "    tagged = pos_tag(word_tokenize(sentence))\n",
    "\n",
    "    for word, tag in tagged:\n",
    "        tag_dict[word] = tag"
   ]
  },
  {
   "cell_type": "code",
   "execution_count": 12,
   "metadata": {},
   "outputs": [
    {
     "data": {
      "text/plain": "{'batman': 'NN',\n 'be': 'VB',\n 'an': 'DT',\n 'american': 'JJ',\n 'superhero': 'NN',\n 'the': 'DT',\n 'joker': 'NN',\n 'a': 'DT',\n 'supervillain': 'NN',\n 'that': 'WDT',\n 'embody': 'VBP',\n 'idea': 'NN',\n 'of': 'IN',\n 'anarchy': 'NN',\n 'and': 'CC',\n 'chaos': 'NN',\n 'fight': 'VBD',\n 'battle': 'NN',\n 'for': 'IN',\n 'gotham': 'JJ',\n '’': 'NNP',\n 's': 'NN',\n 'soul': 'NN',\n 'like': 'IN',\n 'them': 'PRP',\n ',': ',',\n 'bruce': 'VB',\n 'wayne': 'NN',\n 'billionaire': 'NN',\n 'also': 'RB',\n 'from': 'IN',\n 'city': 'NN',\n 'he': 'PRP',\n 'hide': 'VB',\n 'behind': 'IN',\n 'face': 'NN',\n 'these': 'DT',\n 'two': 'CD',\n '?': '.'}"
     },
     "execution_count": 12,
     "metadata": {},
     "output_type": "execute_result"
    }
   ],
   "source": [
    "tag_dict"
   ]
  },
  {
   "cell_type": "code",
   "execution_count": 13,
   "metadata": {},
   "outputs": [],
   "source": [
    "def valid_context_word(word):\n",
    "    return tag_dict[word].lower()[0] in ['j', 'n', 'v']\n",
    "\n",
    "def process_token_subarray(sub, window_limit):\n",
    "    ret = []\n",
    "    i = 0\n",
    "    for s in sub:\n",
    "        if valid_context_word(s) and i <= window_limit:\n",
    "            ret.append(s)\n",
    "            i = i + 1\n",
    "    return ret"
   ]
  },
  {
   "cell_type": "code",
   "execution_count": 14,
   "metadata": {},
   "outputs": [],
   "source": [
    "def process_list(word_list):\n",
    "    for word in word_list:\n",
    "        context_words.add(word)"
   ]
  },
  {
   "cell_type": "code",
   "execution_count": 15,
   "metadata": {},
   "outputs": [
    {
     "name": "stdout",
     "output_type": "stream",
     "text": "\n# i: 0\nSentence: batman be an american superhero\nTarget: batman\nCaptured context words : ['batman', 'be', 'american', 'superhero']\n\n# i: 1\nSentence: the joker be a supervillain that embody the idea of anarchy and chaos\nTarget: joker\nCaptured context words : ['joker', 'be', 'supervillain', 'embody', 'idea', 'anarchy']\n\n# i: 2\nSentence: the joker and batman fight the battle for gotham ’ s soul\nTarget: joker\nCaptured context words : ['joker', 'batman', 'fight', 'battle', 'gotham', '’']\nTarget: batman\nCaptured context words : ['joker', 'batman', 'fight', 'battle', 'gotham', '’', 's']\n\n# i: 3\nSentence: like them , bruce wayne , an american billionaire be also from gotham city\nTarget: wayne\nCaptured context words : ['bruce', 'wayne', 'american', 'billionaire', 'be', 'gotham', 'city']\n\n# i: 4\nSentence: be he hide behind the face of these two ?\n"
    }
   ],
   "source": [
    "word_window = 5\n",
    "context_words = set()\n",
    "\n",
    "for sentence in lemmatized_sentences:\n",
    "    if sentence != '':\n",
    "        print('\\n# i: {}\\nSentence: {}'.format(lemmatized_sentences.index(sentence), sentence))\n",
    "\n",
    "    tokens = sentence.split(' ')\n",
    "    for token in tokens:\n",
    "        if token in targets:\n",
    "            print('Target: {}'.format(token))\n",
    "            context_words.add(token)\n",
    "\n",
    "            i = tokens.index(token)\n",
    "\n",
    "            # split the list into left and right and then process them\n",
    "            left = tokens[:i]\n",
    "            right = tokens[i:]\n",
    "\n",
    "            processed_left = process_token_subarray(left, word_window)\n",
    "            processed_right = process_token_subarray(right, word_window)\n",
    "\n",
    "            process_list(processed_left + processed_right)\n",
    "\n",
    "            print('Captured context words : {}'.format(processed_left + processed_right))\n",
    "            # update the vector\n",
    "            target_v_context[token] = target_v_context[token] + processed_left + processed_right"
   ]
  },
  {
   "cell_type": "code",
   "execution_count": 16,
   "metadata": {},
   "outputs": [
    {
     "data": {
      "text/plain": "{'american',\n 'anarchy',\n 'batman',\n 'battle',\n 'be',\n 'billionaire',\n 'bruce',\n 'city',\n 'embody',\n 'fight',\n 'gotham',\n 'idea',\n 'joker',\n 's',\n 'superhero',\n 'supervillain',\n 'wayne',\n '’'}"
     },
     "execution_count": 16,
     "metadata": {},
     "output_type": "execute_result"
    }
   ],
   "source": [
    "context_words"
   ]
  },
  {
   "cell_type": "markdown",
   "metadata": {},
   "outputs": [],
   "source": [
    "### Set target to target matches as 0, for example batman-batman : 0"
   ]
  },
  {
   "cell_type": "code",
   "execution_count": 17,
   "metadata": {},
   "outputs": [],
   "source": [
    "for target in target_v_context.keys():\n",
    "    for cw in target_v_context[target]:\n",
    "        if cw == target:\n",
    "            i = target_v_context[target].index(cw)\n",
    "            target_v_context[target].pop(i)"
   ]
  },
  {
   "cell_type": "markdown",
   "metadata": {},
   "outputs": [],
   "source": [
    "### Build the vectors"
   ]
  },
  {
   "cell_type": "code",
   "execution_count": 18,
   "metadata": {},
   "outputs": [
    {
     "name": "stdout",
     "output_type": "stream",
     "text": "superhero\n{'batman': 1, 'wayne': 0, 'joker': 0, 'batman * wayne': 0, 'joker * wayne': 0}\n\nbillionaire\n{'batman': 0, 'wayne': 1, 'joker': 0, 'batman * wayne': 0, 'joker * wayne': 0}\n\nidea\n{'batman': 0, 'wayne': 0, 'joker': 1, 'batman * wayne': 0, 'joker * wayne': 0}\n\nbattle\n{'batman': 1, 'wayne': 0, 'joker': 1, 'batman * wayne': 0, 'joker * wayne': 0}\n\n’\n{'batman': 1, 'wayne': 0, 'joker': 1, 'batman * wayne': 0, 'joker * wayne': 0}\n\nwayne\n{'batman': 0, 'wayne': 0, 'joker': 0, 'batman * wayne': 0, 'joker * wayne': 0}\n\njoker\n{'batman': 1, 'wayne': 0, 'joker': 0, 'batman * wayne': 0, 'joker * wayne': 0}\n\nbe\n{'batman': 1, 'wayne': 1, 'joker': 1, 'batman * wayne': 0, 'joker * wayne': 0}\n\ns\n{'batman': 1, 'wayne': 0, 'joker': 0, 'batman * wayne': 0, 'joker * wayne': 0}\n\nbatman\n{'batman': 0, 'wayne': 0, 'joker': 1, 'batman * wayne': 0, 'joker * wayne': 0}\n\namerican\n{'batman': 1, 'wayne': 1, 'joker': 0, 'batman * wayne': 0, 'joker * wayne': 0}\n\ngotham\n{'batman': 1, 'wayne': 1, 'joker': 1, 'batman * wayne': 0, 'joker * wayne': 0}\n\nanarchy\n{'batman': 0, 'wayne': 0, 'joker': 1, 'batman * wayne': 0, 'joker * wayne': 0}\n\nfight\n{'batman': 1, 'wayne': 0, 'joker': 1, 'batman * wayne': 0, 'joker * wayne': 0}\n\nbruce\n{'batman': 0, 'wayne': 1, 'joker': 0, 'batman * wayne': 0, 'joker * wayne': 0}\n\nembody\n{'batman': 0, 'wayne': 0, 'joker': 1, 'batman * wayne': 0, 'joker * wayne': 0}\n\nsupervillain\n{'batman': 0, 'wayne': 0, 'joker': 1, 'batman * wayne': 0, 'joker * wayne': 0}\n\ncity\n{'batman': 0, 'wayne': 1, 'joker': 0, 'batman * wayne': 0, 'joker * wayne': 0}\n\n"
    }
   ],
   "source": [
    "import collections\n",
    "\n",
    "vector = {}\n",
    "features = targets + ['batman * wayne', 'joker * wayne']\n",
    "\n",
    "for cw in context_words:\n",
    "    vector[cw] = {}\n",
    "    for f in features:\n",
    "        vector[cw][f] = 0\n",
    "\n",
    "\n",
    "for target in target_v_context.keys():\n",
    "    c = collections.Counter(target_v_context[target])\n",
    "    \n",
    "    for v in vector.keys():\n",
    "        vector[v][target] = c[v]\n",
    "\n",
    "for v in vector.keys():\n",
    "    print(v)\n",
    "    print(vector[v])\n",
    "    print()"
   ]
  },
  {
   "cell_type": "code",
   "execution_count": 19,
   "metadata": {},
   "outputs": [],
   "source": [
    "def batman_wayne(batman, wayne):\n",
    "    return batman * wayne\n",
    "\n",
    "def joker_wayne(joker, wayne):\n",
    "    return joker * wayne"
   ]
  },
  {
   "cell_type": "code",
   "execution_count": 20,
   "metadata": {},
   "outputs": [],
   "source": [
    "for v in vector.keys():\n",
    "    vector[v]['batman * wayne'] = batman_wayne(vector[v]['batman'], vector[v]['wayne'])\n",
    "    vector[v]['joker * wayne'] = joker_wayne(vector[v]['joker'], vector[v]['wayne'])"
   ]
  },
  {
   "cell_type": "markdown",
   "metadata": {},
   "outputs": [],
   "source": [
    "### Count vector dims"
   ]
  },
  {
   "cell_type": "code",
   "execution_count": 21,
   "metadata": {},
   "outputs": [
    {
     "data": {
      "text/plain": "{'batman': 9, 'wayne': 6, 'joker': 10, 'batman * wayne': 3, 'joker * wayne': 2}"
     },
     "execution_count": 21,
     "metadata": {},
     "output_type": "execute_result"
    }
   ],
   "source": [
    "dim_count = {}\n",
    "\n",
    "for f in features:\n",
    "    dim_count[f] = 0\n",
    "\n",
    "for v in vector.keys():\n",
    "    for d in dim_count.keys():\n",
    "        dim_count[d] = dim_count[d] + vector[v][d]\n",
    "\n",
    "dim_count"
   ]
  },
  {
   "cell_type": "markdown",
   "metadata": {},
   "outputs": [],
   "source": [
    "### Compute Cosines"
   ]
  },
  {
   "cell_type": "code",
   "execution_count": 22,
   "metadata": {},
   "outputs": [],
   "source": [
    "import math\n",
    "\n",
    "def cosine(uv, u, v):\n",
    "    return uv / (math.sqrt(u) * math.sqrt(v))"
   ]
  },
  {
   "cell_type": "code",
   "execution_count": 23,
   "metadata": {},
   "outputs": [
    {
     "data": {
      "text/plain": "0.4082482904638631"
     },
     "execution_count": 23,
     "metadata": {},
     "output_type": "execute_result"
    }
   ],
   "source": [
    "w_bat = cosine(dim_count['batman * wayne'], dim_count['batman'], dim_count['wayne'])\n",
    "w_bat"
   ]
  },
  {
   "cell_type": "code",
   "execution_count": 24,
   "metadata": {},
   "outputs": [
    {
     "data": {
      "text/plain": "0.25819888974716115"
     },
     "execution_count": 24,
     "metadata": {},
     "output_type": "execute_result"
    }
   ],
   "source": [
    "w_joker = cosine(dim_count['joker * wayne'], dim_count['joker'], dim_count['wayne'])\n",
    "w_joker"
   ]
  },
  {
   "cell_type": "markdown",
   "metadata": {},
   "outputs": [],
   "source": [
    "## So, who's Wayne actually? "
   ]
  },
  {
   "cell_type": "code",
   "execution_count": 25,
   "metadata": {},
   "outputs": [
    {
     "name": "stdout",
     "output_type": "stream",
     "text": "Wayne is Batman!\n"
    }
   ],
   "source": [
    "print('Wayne is Batman!') if (1 - w_bat) < (1 - w_joker) else print('Wayne is the Joker!')"
   ]
  }
 ]
}